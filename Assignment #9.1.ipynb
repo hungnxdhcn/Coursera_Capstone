{
 "cells": [
  {
   "cell_type": "code",
   "execution_count": 6,
   "metadata": {},
   "outputs": [
    {
     "name": "stdout",
     "output_type": "stream",
     "text": [
      "Solving environment: done\n",
      "\n",
      "# All requested packages already installed.\n",
      "\n"
     ]
    }
   ],
   "source": [
    "import pandas as pd\n",
    "import numpy as np\n",
    "\n",
    "!conda install -c anaconda beautifulsoup4 "
   ]
  },
  {
   "cell_type": "code",
   "execution_count": 7,
   "metadata": {},
   "outputs": [],
   "source": [
    "import requests\n",
    "from bs4 import BeautifulSoup"
   ]
  },
  {
   "cell_type": "code",
   "execution_count": 8,
   "metadata": {},
   "outputs": [
    {
     "data": {
      "text/plain": [
       "(103, 3)"
      ]
     },
     "execution_count": 8,
     "metadata": {},
     "output_type": "execute_result"
    }
   ],
   "source": [
    "source = requests.get('https://en.wikipedia.org/wiki/List_of_postal_codes_of_Canada:_M').text\n",
    "soup = BeautifulSoup(source, 'html5lib')\n",
    "my_table = soup.find('table',{'class':'wikitable sortable'})\n",
    "trs=my_table.find_all('tr')\n",
    "ths = my_table.find_all('th')\n",
    "headings = [th.text.strip() for th in ths]\n",
    "headings\n",
    "\n",
    "postal_codes_dict = {} # initialize an empty dictionary to save the data in\n",
    "for tr in my_table.find_all('tr'):\n",
    "    try:\n",
    "        tds = tr.find_all('td')\n",
    "        if not tds:\n",
    "            continue\n",
    "        postal_code, borough, neighborhood = [td.text.strip() for td in tds[:3]]\n",
    "        #print('; '.join([postal_code, borough, neighborhood]))\n",
    "        if borough == 'Not assigned':\n",
    "            neighborhoods = []\n",
    "        else:\n",
    "            postal_codes_dict[postal_code] = {}\n",
    "            postal_codes_dict[postal_code]['borough'] = borough\n",
    "            if neighborhood == 'Not assigned':\n",
    "                neighborhood = borough\n",
    "            postal_codes_dict[postal_code]['neighborhoods'] = neighborhood\n",
    "    except:\n",
    "        pass\n",
    "postal_codes_dict\n",
    "# create an empty dataframe\n",
    "columns = ['PostalCode', 'Borough', 'Neighborhood']\n",
    "toronto_data = pd.DataFrame(columns=columns)\n",
    "toronto_data\n",
    "\n",
    "# populate dataframe with data from dictionary\n",
    "for ind, postal_code in enumerate(postal_codes_dict):\n",
    "    borough = postal_codes_dict[postal_code]['borough']\n",
    "    neighborhood = postal_codes_dict[postal_code]['neighborhoods']\n",
    "    toronto_data = toronto_data.append({\"PostalCode\": postal_code, \n",
    "                                        \"Borough\": borough, \n",
    "                                        \"Neighborhood\": neighborhood},\n",
    "                                        ignore_index=True)\n",
    "\n",
    "df2=toronto_data.groupby(['PostalCode','Borough'])['Neighborhood'].apply(lambda x: \", \".join(x.astype(str))).reset_index()\n",
    "#df2\n",
    "df2.shape"
   ]
  },
  {
   "cell_type": "code",
   "execution_count": null,
   "metadata": {},
   "outputs": [],
   "source": []
  }
 ],
 "metadata": {
  "kernelspec": {
   "display_name": "Python 3.6",
   "language": "python",
   "name": "python3"
  },
  "language_info": {
   "codemirror_mode": {
    "name": "ipython",
    "version": 3
   },
   "file_extension": ".py",
   "mimetype": "text/x-python",
   "name": "python",
   "nbconvert_exporter": "python",
   "pygments_lexer": "ipython3",
   "version": "3.6.8"
  }
 },
 "nbformat": 4,
 "nbformat_minor": 1
}
